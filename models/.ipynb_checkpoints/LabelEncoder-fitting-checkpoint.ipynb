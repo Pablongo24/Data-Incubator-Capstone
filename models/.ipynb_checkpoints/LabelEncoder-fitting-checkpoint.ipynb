{
 "cells": [
  {
   "cell_type": "markdown",
   "metadata": {},
   "source": [
    "### Import libraries"
   ]
  },
  {
   "cell_type": "code",
   "execution_count": 2,
   "metadata": {},
   "outputs": [],
   "source": [
    "import pandas as pd\n",
    "import numpy as np\n",
    "import string as st\n",
    "import os"
   ]
  },
  {
   "cell_type": "code",
   "execution_count": 3,
   "metadata": {},
   "outputs": [],
   "source": [
    "from sklearn.preprocessing import LabelEncoder\n",
    "import re"
   ]
  },
  {
   "cell_type": "code",
   "execution_count": 44,
   "metadata": {},
   "outputs": [],
   "source": [
    "CSV_file = 'Dataset-for-ML-Model.csv'\n",
    "frame = pd.read_csv(CSV_file, encoding='ISO-8859-1')"
   ]
  },
  {
   "cell_type": "code",
   "execution_count": 45,
   "metadata": {},
   "outputs": [
    {
     "data": {
      "text/html": [
       "<div>\n",
       "<style scoped>\n",
       "    .dataframe tbody tr th:only-of-type {\n",
       "        vertical-align: middle;\n",
       "    }\n",
       "\n",
       "    .dataframe tbody tr th {\n",
       "        vertical-align: top;\n",
       "    }\n",
       "\n",
       "    .dataframe thead th {\n",
       "        text-align: right;\n",
       "    }\n",
       "</style>\n",
       "<table border=\"1\" class=\"dataframe\">\n",
       "  <thead>\n",
       "    <tr style=\"text-align: right;\">\n",
       "      <th></th>\n",
       "      <th>Unnamed: 0</th>\n",
       "      <th>index</th>\n",
       "      <th>employer</th>\n",
       "      <th>job title</th>\n",
       "      <th>base salary</th>\n",
       "      <th>location</th>\n",
       "      <th>submit date</th>\n",
       "      <th>start date</th>\n",
       "      <th>case status</th>\n",
       "      <th>year</th>\n",
       "      <th>month</th>\n",
       "      <th>submit year</th>\n",
       "      <th>submit month</th>\n",
       "    </tr>\n",
       "  </thead>\n",
       "  <tbody>\n",
       "    <tr>\n",
       "      <th>0</th>\n",
       "      <td>0</td>\n",
       "      <td>0</td>\n",
       "      <td>FORTUNE LAND LLC</td>\n",
       "      <td>ACCOUNTANTS AND AUDITORS</td>\n",
       "      <td>48500</td>\n",
       "      <td>NEWARK DE</td>\n",
       "      <td>2016-03-10</td>\n",
       "      <td>2016-09-09</td>\n",
       "      <td>CERTIFIED</td>\n",
       "      <td>2016</td>\n",
       "      <td>3</td>\n",
       "      <td>2016</td>\n",
       "      <td>3</td>\n",
       "    </tr>\n",
       "    <tr>\n",
       "      <th>1</th>\n",
       "      <td>1</td>\n",
       "      <td>1</td>\n",
       "      <td>FORTUNE LAND LLC</td>\n",
       "      <td>ACCOUNTANTS AND AUDITORS</td>\n",
       "      <td>48500</td>\n",
       "      <td>NEWARK DE</td>\n",
       "      <td>2015-03-12</td>\n",
       "      <td>2015-09-05</td>\n",
       "      <td>CERTIFIED</td>\n",
       "      <td>2015</td>\n",
       "      <td>3</td>\n",
       "      <td>2015</td>\n",
       "      <td>3</td>\n",
       "    </tr>\n",
       "    <tr>\n",
       "      <th>2</th>\n",
       "      <td>2</td>\n",
       "      <td>2</td>\n",
       "      <td>VALLES VENDIOLA LLP</td>\n",
       "      <td>ACCOUNTANTS AND AUDITORS</td>\n",
       "      <td>52640</td>\n",
       "      <td>ELMHURST NY</td>\n",
       "      <td>2015-03-06</td>\n",
       "      <td>2015-09-01</td>\n",
       "      <td>CERTIFIED</td>\n",
       "      <td>2015</td>\n",
       "      <td>3</td>\n",
       "      <td>2015</td>\n",
       "      <td>3</td>\n",
       "    </tr>\n",
       "    <tr>\n",
       "      <th>3</th>\n",
       "      <td>3</td>\n",
       "      <td>3</td>\n",
       "      <td>BHATIA &amp; CO INC CPAS</td>\n",
       "      <td>ACCOUNTANTS AND AUDITORS</td>\n",
       "      <td>52800</td>\n",
       "      <td>SANTA CLARA CA</td>\n",
       "      <td>2014-03-22</td>\n",
       "      <td>2014-09-20</td>\n",
       "      <td>CERTIFIED</td>\n",
       "      <td>2014</td>\n",
       "      <td>3</td>\n",
       "      <td>2014</td>\n",
       "      <td>3</td>\n",
       "    </tr>\n",
       "    <tr>\n",
       "      <th>4</th>\n",
       "      <td>4</td>\n",
       "      <td>4</td>\n",
       "      <td>GATEWAY COUNSELING CENTER INC</td>\n",
       "      <td>ACCOUNTANTS AND AUDITORS</td>\n",
       "      <td>54280</td>\n",
       "      <td>BRONX NY</td>\n",
       "      <td>2018-04-23</td>\n",
       "      <td>2018-05-31</td>\n",
       "      <td>CERTIFIED</td>\n",
       "      <td>2018</td>\n",
       "      <td>4</td>\n",
       "      <td>2018</td>\n",
       "      <td>4</td>\n",
       "    </tr>\n",
       "  </tbody>\n",
       "</table>\n",
       "</div>"
      ],
      "text/plain": [
       "   Unnamed: 0  index                       employer                 job title  \\\n",
       "0           0      0               FORTUNE LAND LLC  ACCOUNTANTS AND AUDITORS   \n",
       "1           1      1               FORTUNE LAND LLC  ACCOUNTANTS AND AUDITORS   \n",
       "2           2      2            VALLES VENDIOLA LLP  ACCOUNTANTS AND AUDITORS   \n",
       "3           3      3           BHATIA & CO INC CPAS  ACCOUNTANTS AND AUDITORS   \n",
       "4           4      4  GATEWAY COUNSELING CENTER INC  ACCOUNTANTS AND AUDITORS   \n",
       "\n",
       "   base salary        location submit date  start date case status  year  \\\n",
       "0        48500       NEWARK DE  2016-03-10  2016-09-09   CERTIFIED  2016   \n",
       "1        48500       NEWARK DE  2015-03-12  2015-09-05   CERTIFIED  2015   \n",
       "2        52640     ELMHURST NY  2015-03-06  2015-09-01   CERTIFIED  2015   \n",
       "3        52800  SANTA CLARA CA  2014-03-22  2014-09-20   CERTIFIED  2014   \n",
       "4        54280        BRONX NY  2018-04-23  2018-05-31   CERTIFIED  2018   \n",
       "\n",
       "   month  submit year  submit month  \n",
       "0      3         2016             3  \n",
       "1      3         2015             3  \n",
       "2      3         2015             3  \n",
       "3      3         2014             3  \n",
       "4      4         2018             4  "
      ]
     },
     "execution_count": 45,
     "metadata": {},
     "output_type": "execute_result"
    }
   ],
   "source": [
    "frame.head()"
   ]
  },
  {
   "cell_type": "code",
   "execution_count": 46,
   "metadata": {},
   "outputs": [],
   "source": [
    "# Note: this function requires a cleaned up 'location' column with no NaN or empty strings\n",
    "def get_city_state(df):\n",
    "    df[\"state\"] = df[\"location\"].str.split().str[-1]\n",
    "    df[\"location\"].apply(lambda x: \"\".join(x.split()[1:]))\n",
    "    df[\"location\"] = df[\"location\"].apply(lambda x: x.split(\" \"))\n",
    "    df[\"city\"] = df[\"location\"].str[:-1].apply(lambda x: \" \".join(x))\n",
    "    \n",
    "    df = df[['employer', 'job title', 'base salary', 'submit date',\n",
    "       'start date', 'case status', 'submit year', 'submit month', 'state', 'city']]\n",
    "    \n",
    "    return df"
   ]
  },
  {
   "cell_type": "code",
   "execution_count": 47,
   "metadata": {},
   "outputs": [],
   "source": [
    "frame = get_city_state(frame)"
   ]
  },
  {
   "cell_type": "code",
   "execution_count": 48,
   "metadata": {},
   "outputs": [
    {
     "data": {
      "text/html": [
       "<div>\n",
       "<style scoped>\n",
       "    .dataframe tbody tr th:only-of-type {\n",
       "        vertical-align: middle;\n",
       "    }\n",
       "\n",
       "    .dataframe tbody tr th {\n",
       "        vertical-align: top;\n",
       "    }\n",
       "\n",
       "    .dataframe thead th {\n",
       "        text-align: right;\n",
       "    }\n",
       "</style>\n",
       "<table border=\"1\" class=\"dataframe\">\n",
       "  <thead>\n",
       "    <tr style=\"text-align: right;\">\n",
       "      <th></th>\n",
       "      <th>employer</th>\n",
       "      <th>job title</th>\n",
       "      <th>base salary</th>\n",
       "      <th>submit date</th>\n",
       "      <th>start date</th>\n",
       "      <th>case status</th>\n",
       "      <th>submit year</th>\n",
       "      <th>submit month</th>\n",
       "      <th>state</th>\n",
       "      <th>city</th>\n",
       "    </tr>\n",
       "  </thead>\n",
       "  <tbody>\n",
       "    <tr>\n",
       "      <th>0</th>\n",
       "      <td>FORTUNE LAND LLC</td>\n",
       "      <td>ACCOUNTANTS AND AUDITORS</td>\n",
       "      <td>48500</td>\n",
       "      <td>2016-03-10</td>\n",
       "      <td>2016-09-09</td>\n",
       "      <td>CERTIFIED</td>\n",
       "      <td>2016</td>\n",
       "      <td>3</td>\n",
       "      <td>DE</td>\n",
       "      <td>NEWARK</td>\n",
       "    </tr>\n",
       "    <tr>\n",
       "      <th>1</th>\n",
       "      <td>FORTUNE LAND LLC</td>\n",
       "      <td>ACCOUNTANTS AND AUDITORS</td>\n",
       "      <td>48500</td>\n",
       "      <td>2015-03-12</td>\n",
       "      <td>2015-09-05</td>\n",
       "      <td>CERTIFIED</td>\n",
       "      <td>2015</td>\n",
       "      <td>3</td>\n",
       "      <td>DE</td>\n",
       "      <td>NEWARK</td>\n",
       "    </tr>\n",
       "    <tr>\n",
       "      <th>2</th>\n",
       "      <td>VALLES VENDIOLA LLP</td>\n",
       "      <td>ACCOUNTANTS AND AUDITORS</td>\n",
       "      <td>52640</td>\n",
       "      <td>2015-03-06</td>\n",
       "      <td>2015-09-01</td>\n",
       "      <td>CERTIFIED</td>\n",
       "      <td>2015</td>\n",
       "      <td>3</td>\n",
       "      <td>NY</td>\n",
       "      <td>ELMHURST</td>\n",
       "    </tr>\n",
       "    <tr>\n",
       "      <th>3</th>\n",
       "      <td>BHATIA &amp; CO INC CPAS</td>\n",
       "      <td>ACCOUNTANTS AND AUDITORS</td>\n",
       "      <td>52800</td>\n",
       "      <td>2014-03-22</td>\n",
       "      <td>2014-09-20</td>\n",
       "      <td>CERTIFIED</td>\n",
       "      <td>2014</td>\n",
       "      <td>3</td>\n",
       "      <td>CA</td>\n",
       "      <td>SANTA CLARA</td>\n",
       "    </tr>\n",
       "    <tr>\n",
       "      <th>4</th>\n",
       "      <td>GATEWAY COUNSELING CENTER INC</td>\n",
       "      <td>ACCOUNTANTS AND AUDITORS</td>\n",
       "      <td>54280</td>\n",
       "      <td>2018-04-23</td>\n",
       "      <td>2018-05-31</td>\n",
       "      <td>CERTIFIED</td>\n",
       "      <td>2018</td>\n",
       "      <td>4</td>\n",
       "      <td>NY</td>\n",
       "      <td>BRONX</td>\n",
       "    </tr>\n",
       "  </tbody>\n",
       "</table>\n",
       "</div>"
      ],
      "text/plain": [
       "                        employer                 job title  base salary  \\\n",
       "0               FORTUNE LAND LLC  ACCOUNTANTS AND AUDITORS        48500   \n",
       "1               FORTUNE LAND LLC  ACCOUNTANTS AND AUDITORS        48500   \n",
       "2            VALLES VENDIOLA LLP  ACCOUNTANTS AND AUDITORS        52640   \n",
       "3           BHATIA & CO INC CPAS  ACCOUNTANTS AND AUDITORS        52800   \n",
       "4  GATEWAY COUNSELING CENTER INC  ACCOUNTANTS AND AUDITORS        54280   \n",
       "\n",
       "  submit date  start date case status  submit year  submit month state  \\\n",
       "0  2016-03-10  2016-09-09   CERTIFIED         2016             3    DE   \n",
       "1  2015-03-12  2015-09-05   CERTIFIED         2015             3    DE   \n",
       "2  2015-03-06  2015-09-01   CERTIFIED         2015             3    NY   \n",
       "3  2014-03-22  2014-09-20   CERTIFIED         2014             3    CA   \n",
       "4  2018-04-23  2018-05-31   CERTIFIED         2018             4    NY   \n",
       "\n",
       "          city  \n",
       "0       NEWARK  \n",
       "1       NEWARK  \n",
       "2     ELMHURST  \n",
       "3  SANTA CLARA  \n",
       "4        BRONX  "
      ]
     },
     "execution_count": 48,
     "metadata": {},
     "output_type": "execute_result"
    }
   ],
   "source": [
    "frame.head()"
   ]
  },
  {
   "cell_type": "code",
   "execution_count": 7,
   "metadata": {},
   "outputs": [],
   "source": [
    "X = frame[['employer', 'job title','case status', 'submit year',\n",
    "           'submit month', 'state', 'city']]\n",
    "y = np.log1p(frame[['base salary']].values)"
   ]
  },
  {
   "cell_type": "markdown",
   "metadata": {},
   "source": [
    "### Label Encoding\n",
    "Multiple label enconding per:\n",
    "https://stackoverflow.com/questions/24458645/label-encoding-across-multiple-columns-in-scikit-learn/47100771#47100771\n",
    "\n",
    "Note: investigate later how to save the default dict to a JSON file so I can 1) load it back later if loading the model (pickle) elsewhere."
   ]
  },
  {
   "cell_type": "code",
   "execution_count": 8,
   "metadata": {},
   "outputs": [],
   "source": [
    "from collections import defaultdict"
   ]
  },
  {
   "cell_type": "code",
   "execution_count": 9,
   "metadata": {},
   "outputs": [],
   "source": [
    "d = defaultdict(LabelEncoder)\n",
    "cols_to_transf = ['employer','job title','state','city','case status']"
   ]
  },
  {
   "cell_type": "code",
   "execution_count": 10,
   "metadata": {},
   "outputs": [],
   "source": [
    "def fit_and_transform(df,cols_to_transf):\n",
    "    df_transf = df[cols_to_transf]\n",
    "    df_non_transf = df.drop(cols_to_transf, axis = 1)\n",
    "    \n",
    "    fit = df_transf.apply(lambda x: d[x.name].fit_transform(x))\n",
    "    \n",
    "    df = pd.concat([fit, df_non_transf], axis=1, join='outer')\n",
    "    return df"
   ]
  },
  {
   "cell_type": "code",
   "execution_count": 11,
   "metadata": {},
   "outputs": [],
   "source": [
    "def inverse_encoding(df,encoded_cols):\n",
    "    df_inverse = df[encoded_cols]\n",
    "    df_non_inv = df.drop(encoded_cols, axis = 1)\n",
    "    \n",
    "    df_inverse = df_inverse.apply(lambda x: d[x.name].inverse_transform(x))\n",
    "    df = pd.concat([df_inverse, df_non_inv], axis=1, join='outer')\n",
    "    \n",
    "    return df"
   ]
  },
  {
   "cell_type": "code",
   "execution_count": 12,
   "metadata": {},
   "outputs": [],
   "source": [
    "def encode_future_data(df,cols_to_transf):\n",
    "    df_transf = df[cols_to_transf]\n",
    "    df_non_transf = df.drop(cols_to_transf, axis = 1)\n",
    "    \n",
    "    fit = df_transf.apply(lambda x: d[x.name].transform(x))\n",
    "    \n",
    "    df = pd.concat([fit, df_non_transf], axis=1, join='outer')\n",
    "    return df"
   ]
  },
  {
   "cell_type": "code",
   "execution_count": 13,
   "metadata": {},
   "outputs": [],
   "source": [
    "X = fit_and_transform(X, cols_to_transf)"
   ]
  },
  {
   "cell_type": "code",
   "execution_count": 14,
   "metadata": {},
   "outputs": [],
   "source": [
    "for key in d.keys():\n",
    "    filename = '{}.npy'.format(key)\n",
    "    filename = filename.replace(' ','_')\n",
    "    np.save(filename, d[key].classes_)"
   ]
  },
  {
   "cell_type": "code",
   "execution_count": 15,
   "metadata": {},
   "outputs": [
    {
     "name": "stdout",
     "output_type": "stream",
     "text": [
      "dict_keys(['employer', 'job title', 'state', 'city', 'case status'])\n"
     ]
    }
   ],
   "source": [
    "print(d.keys())"
   ]
  },
  {
   "cell_type": "code",
   "execution_count": 16,
   "metadata": {},
   "outputs": [],
   "source": [
    "filenames = []\n",
    "for key in d.keys():\n",
    "    filenames.append('{}.npy'.format(key).replace(' ','_'))"
   ]
  },
  {
   "cell_type": "code",
   "execution_count": 17,
   "metadata": {},
   "outputs": [
    {
     "data": {
      "text/plain": [
       "['employer.npy', 'job_title.npy', 'state.npy', 'city.npy', 'case_status.npy']"
      ]
     },
     "execution_count": 17,
     "metadata": {},
     "output_type": "execute_result"
    }
   ],
   "source": [
    "filenames"
   ]
  },
  {
   "cell_type": "code",
   "execution_count": 18,
   "metadata": {},
   "outputs": [
    {
     "data": {
      "text/plain": [
       "Index(['employer', 'job title', 'state', 'city', 'case status', 'submit year',\n",
       "       'submit month'],\n",
       "      dtype='object')"
      ]
     },
     "execution_count": 18,
     "metadata": {},
     "output_type": "execute_result"
    }
   ],
   "source": [
    "X.columns"
   ]
  },
  {
   "cell_type": "code",
   "execution_count": 19,
   "metadata": {},
   "outputs": [],
   "source": [
    "#print(len(frame['employer'].unique()))\n",
    "#print(len(frame['location'].unique()))\n",
    "#print(len(frame['city'].unique()))\n",
    "#print(len(frame['job title'].unique()))"
   ]
  },
  {
   "cell_type": "markdown",
   "metadata": {},
   "source": [
    "### Clean up location, employer, and job title lists\n",
    "Export these to files in one of the webapp's subdirs to be used to populate the form item for user selection."
   ]
  },
  {
   "cell_type": "code",
   "execution_count": 20,
   "metadata": {},
   "outputs": [],
   "source": [
    "frame['location'] = frame['city']+ ', '  + frame['state']"
   ]
  },
  {
   "cell_type": "code",
   "execution_count": 21,
   "metadata": {},
   "outputs": [],
   "source": [
    "unique_locations = sorted(set(frame['location']))"
   ]
  },
  {
   "cell_type": "code",
   "execution_count": 22,
   "metadata": {},
   "outputs": [],
   "source": [
    "def remove_duplicate_state_abbr(location_list):\n",
    "    for location in location_list:\n",
    "        if re.match('[\\w]+',location[0]):\n",
    "            duplicate_chk = re.findall('[\\w]+',location[0])\n",
    "            for item in duplicate_chk:\n",
    "                if item == location[1].strip():\n",
    "                    try:\n",
    "                        location[0] = location[0].replace(item,'')\n",
    "                    except TypeError:\n",
    "                        continue\n",
    "    return location_list"
   ]
  },
  {
   "cell_type": "code",
   "execution_count": 23,
   "metadata": {},
   "outputs": [],
   "source": [
    "# Note: this is a running list of errors I've found while exploring the locations\n",
    "wrongly_mispelled_locations = ['IIRVING, TX', 'LLITTLE ROCK, AR', 'OOLTEWAH, TN',\n",
    "                               'SSSSSSSSSSSSSSSSSSSSSSSSSSSSSS, AZ', 'WWODBRIDGE, NJ']"
   ]
  },
  {
   "cell_type": "code",
   "execution_count": 24,
   "metadata": {},
   "outputs": [],
   "source": [
    "def cleanup_locations(location_list):\n",
    "    location_list = [''.join(c for c in string if not c.isdigit()) for string in location_list]\n",
    "    location_list = [location.replace('#','') for location in location_list]\n",
    "    location_list = [location.replace('MSA','') for location in location_list]\n",
    "    location_list = [location.replace('DIV','') for location in location_list]\n",
    "    location_list = [location.replace('&NBSP','') for location in location_list]\n",
    "    location_list = [location.replace(';','') for location in location_list]\n",
    "    location_list = [location.replace(':','') for location in location_list]\n",
    "    location_list = [location.strip() for location in location_list]\n",
    "    location_list = [location.split(',') for location in location_list]\n",
    "    location_list = [location for location in location_list if location not in wrongly_mispelled_locations]\n",
    "    location_list = remove_duplicate_state_abbr(location_list)\n",
    "    location_list = [location for location in location_list if len(location[0]) > 0]\n",
    "    location_list = [[re.sub(' +', ' ', location[0]), location[1]] for location in location_list]\n",
    "    location_list = sorted(location_list, key=lambda x: x[1])\n",
    "    location_list = [','.join(item) for item in location_list]\n",
    "    location_list = sorted(set(location_list), key=location_list.index)\n",
    "    return location_list"
   ]
  },
  {
   "cell_type": "code",
   "execution_count": 25,
   "metadata": {},
   "outputs": [],
   "source": [
    "unique_locations = cleanup_locations(unique_locations)"
   ]
  },
  {
   "cell_type": "code",
   "execution_count": 56,
   "metadata": {},
   "outputs": [],
   "source": [
    "unique_locations = [','.join([loc.split(',')[0].title(),loc.split(',')[1]]) for loc in unique_locations]"
   ]
  },
  {
   "cell_type": "code",
   "execution_count": 59,
   "metadata": {},
   "outputs": [
    {
     "data": {
      "text/plain": [
       "['Sunnuvale, CA',\n",
       " 'Sunnvale, CA',\n",
       " 'Sunnvyale, CA',\n",
       " 'Sunny Vale, CA',\n",
       " 'Sunnyale, CA',\n",
       " 'Sunnycale, CA',\n",
       " 'Sunnydale, CA',\n",
       " 'Sunnytvale, CA',\n",
       " 'Sunnyval, CA',\n",
       " 'Sunnyvala, CA']"
      ]
     },
     "execution_count": 59,
     "metadata": {},
     "output_type": "execute_result"
    }
   ],
   "source": [
    "unique_locations[1500:1510]"
   ]
  },
  {
   "cell_type": "code",
   "execution_count": 60,
   "metadata": {},
   "outputs": [],
   "source": [
    "unique_employers = sorted(set(frame['employer']))\n",
    "unique_employers = [emp.title() for emp in unique_employers]"
   ]
  },
  {
   "cell_type": "code",
   "execution_count": 61,
   "metadata": {},
   "outputs": [],
   "source": [
    "unique_job_titles = sorted(set(frame['job title']))\n",
    "unique_job_titles = [job.title() for job in unique_job_titles]"
   ]
  },
  {
   "cell_type": "code",
   "execution_count": 62,
   "metadata": {},
   "outputs": [],
   "source": [
    "with open('locations-list.txt', 'w') as f:\n",
    "    for item in unique_locations:\n",
    "        f.write('%s\\n' % item)"
   ]
  },
  {
   "cell_type": "code",
   "execution_count": 63,
   "metadata": {},
   "outputs": [],
   "source": [
    "with open('employers-list.txt', 'w') as f:\n",
    "    for item in unique_employers:\n",
    "        f.write('%s\\n' % item)"
   ]
  },
  {
   "cell_type": "code",
   "execution_count": 64,
   "metadata": {},
   "outputs": [],
   "source": [
    "with open('job-titles-list.txt', 'w') as f:\n",
    "    for item in unique_job_titles:\n",
    "        f.write('%s\\n' % item)"
   ]
  }
 ],
 "metadata": {
  "kernelspec": {
   "display_name": "TDI-Capstone-WebApp",
   "language": "python",
   "name": "tdi-capstone-webapp"
  },
  "language_info": {
   "codemirror_mode": {
    "name": "ipython",
    "version": 3
   },
   "file_extension": ".py",
   "mimetype": "text/x-python",
   "name": "python",
   "nbconvert_exporter": "python",
   "pygments_lexer": "ipython3",
   "version": "3.6.7"
  }
 },
 "nbformat": 4,
 "nbformat_minor": 2
}
